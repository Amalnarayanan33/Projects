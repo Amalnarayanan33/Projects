{
 "cells": [
  {
   "cell_type": "markdown",
   "id": "190b3ffa",
   "metadata": {},
   "source": [
    "# Exercise 13 - Take a screenshot of the first page of the notebook. (1 pt)\n",
    "\n"
   ]
  },
  {
   "cell_type": "markdown",
   "id": "8624528b",
   "metadata": {},
   "source": []
  },
  {
   "cell_type": "markdown",
   "id": "d12b0960",
   "metadata": {},
   "source": [
    "# Exercise 3 - Create a markdown cell for an introduction. (1 pt)"
   ]
  },
  {
   "cell_type": "markdown",
   "id": "1916e2e7",
   "metadata": {},
   "source": [
    "Markdown cell for introduction created\n",
    "\n",
    "\n"
   ]
  },
  {
   "cell_type": "markdown",
   "id": "f13ae85d",
   "metadata": {},
   "source": [
    "# Exercise 4 - Create a markdown cell to list data science languages. (3 pts)"
   ]
  },
  {
   "cell_type": "markdown",
   "id": "292ce3c1",
   "metadata": {},
   "source": [
    "Some of the popular languages that Data Scientists use are:\n",
    "\n",
    "1.Python.\n",
    "2.R.\n",
    "3.SQL.\n",
    "4.Java.\n",
    "5.Julia.\n",
    "6.Scala.\n",
    "7.C/C++.\n",
    "8.JavaScript."
   ]
  },
  {
   "cell_type": "markdown",
   "id": "2b36ab9a",
   "metadata": {},
   "source": [
    "# Exercise 5 - Create a markdown cell to list data science libraries. (3 pts)"
   ]
  },
  {
   "cell_type": "markdown",
   "id": "191c228b",
   "metadata": {},
   "source": [
    "Some of the commonly used libraries used by Data Scientists include:\n",
    "\n",
    "TensorFlow.\n",
    "NumPy.\n",
    "SciPy.\n",
    "Pandas.\n",
    "Matplotlib.\n",
    "Keras.\n",
    "SciKit-Learn.\n",
    "PyTorch.\n",
    "Scrapy.\n",
    "BeautifulSoup.\n",
    "LightGBM.\n",
    "ELI5.\n",
    "Theano.\n",
    "NuPIC.\n",
    "Ramp.\n",
    "Pipenv.\n",
    "Bob.\n",
    "PyBrain.\n",
    "Caffe2.\n",
    "Chainer."
   ]
  },
  {
   "cell_type": "markdown",
   "id": "ccb0f039",
   "metadata": {},
   "source": [
    "# Exercise 6 - Create a markdown cell with a table of Data Science tools. (3 pts)"
   ]
  },
  {
   "cell_type": "markdown",
   "id": "6617b5ca",
   "metadata": {},
   "source": [
    "# Table of Data Science tools"
   ]
  },
  {
   "cell_type": "markdown",
   "id": "82a9ca01",
   "metadata": {},
   "source": [
    "\n",
    "| SAS | Apache Spark | BigML |"
   ]
  },
  {
   "cell_type": "markdown",
   "id": "cc527779",
   "metadata": {},
   "source": [
    "# Exercise 7 - Create a markdown cell introducing arithmetic expression examples. (1 pt)"
   ]
  },
  {
   "cell_type": "markdown",
   "id": "6b65daf1",
   "metadata": {},
   "source": [
    "# Arithmetic operations\n",
    "code = compile(\"5 + 5\", \"<string>\", \"eval\")\n",
    "eval(code)\n",
    "# Result: 10"
   ]
  },
  {
   "cell_type": "markdown",
   "id": "344bc2b6",
   "metadata": {},
   "source": [
    "# Exercise 8 - Create a code cell to multiply and add numbers. (2 pts)"
   ]
  },
  {
   "cell_type": "code",
   "execution_count": 4,
   "id": "f8be350a",
   "metadata": {},
   "outputs": [
    {
     "data": {
      "text/plain": [
       "20"
      ]
     },
     "execution_count": 4,
     "metadata": {},
     "output_type": "execute_result"
    }
   ],
   "source": [
    "(4*4)+4\n"
   ]
  },
  {
   "cell_type": "markdown",
   "id": "de7d3e34",
   "metadata": {},
   "source": [
    "# Exercise 9 - Create a code cell to convert minutes to hours. (2 pts)"
   ]
  },
  {
   "cell_type": "code",
   "execution_count": 5,
   "id": "251f84c5",
   "metadata": {},
   "outputs": [
    {
     "name": "stdout",
     "output_type": "stream",
     "text": [
      "0 days, 3.3333333333333335 hours, 0 mins. \n"
     ]
    }
   ],
   "source": [
    "days = 0\n",
    "hours = 0\n",
    "mins = 0\n",
    "\n",
    "time = 200\n",
    "#days = time / 1440\n",
    "leftover_minutes = time % 1440\n",
    "hours = leftover_minutes / 60\n",
    "#mins = time - (days*1440) - (hours*60)\n",
    "print(str(days) + \" days, \" + str(hours) + \" hours, \" + str(mins) +  \" mins. \")"
   ]
  },
  {
   "cell_type": "markdown",
   "id": "f84a4ac8",
   "metadata": {},
   "source": [
    "# Exercise 10 -Insert a markdown cell to list Objectives."
   ]
  },
  {
   "cell_type": "markdown",
   "id": "683b091d",
   "metadata": {},
   "source": [
    "Objectives:\n",
    "\n",
    "1.List popular languages that Data Scientists use.\n",
    "2.List commonly used libraries used by Data Scientists.\n",
    "3.Comment on Data Science tools."
   ]
  },
  {
   "cell_type": "markdown",
   "id": "1d331da6",
   "metadata": {},
   "source": [
    "# Exercise 11 - Create a markdown cell to indicate the Author’s name."
   ]
  },
  {
   "cell_type": "markdown",
   "id": "4b5966c9",
   "metadata": {},
   "source": [
    "Author:\n",
    "Germano Costa"
   ]
  }
 ],
 "metadata": {
  "kernelspec": {
   "display_name": "Python 3 (ipykernel)",
   "language": "python",
   "name": "python3"
  },
  "language_info": {
   "codemirror_mode": {
    "name": "ipython",
    "version": 3
   },
   "file_extension": ".py",
   "mimetype": "text/x-python",
   "name": "python",
   "nbconvert_exporter": "python",
   "pygments_lexer": "ipython3",
   "version": "3.9.13"
  }
 },
 "nbformat": 4,
 "nbformat_minor": 5
}
